{
 "cells": [
  {
   "cell_type": "code",
   "execution_count": 1,
   "metadata": {},
   "outputs": [],
   "source": [
    "import pandas as pd"
   ]
  },
  {
   "cell_type": "code",
   "execution_count": 20,
   "metadata": {},
   "outputs": [
    {
     "name": "stderr",
     "output_type": "stream",
     "text": [
      "/home/anant/env/py3/lib/python3.6/site-packages/IPython/core/interactiveshell.py:2728: DtypeWarning: Columns (18,35) have mixed types. Specify dtype option on import or set low_memory=False.\n",
      "  interactivity=interactivity, compiler=compiler, result=result)\n"
     ]
    }
   ],
   "source": [
    "df = pd.read_csv('part2.csv')"
   ]
  },
  {
   "cell_type": "code",
   "execution_count": 21,
   "metadata": {},
   "outputs": [
    {
     "data": {
      "text/html": [
       "<div>\n",
       "<style scoped>\n",
       "    .dataframe tbody tr th:only-of-type {\n",
       "        vertical-align: middle;\n",
       "    }\n",
       "\n",
       "    .dataframe tbody tr th {\n",
       "        vertical-align: top;\n",
       "    }\n",
       "\n",
       "    .dataframe thead th {\n",
       "        text-align: right;\n",
       "    }\n",
       "</style>\n",
       "<table border=\"1\" class=\"dataframe\">\n",
       "  <thead>\n",
       "    <tr style=\"text-align: right;\">\n",
       "      <th></th>\n",
       "      <th>date</th>\n",
       "      <th>buy_user_id</th>\n",
       "      <th>sell_user_id</th>\n",
       "      <th>bord_stoploss_ind</th>\n",
       "      <th>sell_stoploss_ind</th>\n",
       "      <th>buy_instrument</th>\n",
       "      <th>buy_symbol</th>\n",
       "      <th>buy_option</th>\n",
       "      <th>buy_expry_date</th>\n",
       "      <th>buy_strk_price</th>\n",
       "      <th>...</th>\n",
       "      <th>Trade_Transaction_time</th>\n",
       "      <th>Buy_order_Price</th>\n",
       "      <th>Buy_order_quantity</th>\n",
       "      <th>Buy_trigger_price</th>\n",
       "      <th>Sell_order_quantity</th>\n",
       "      <th>Sell_trigger_price</th>\n",
       "      <th>Sell_order_price</th>\n",
       "      <th>Trade_Price</th>\n",
       "      <th>Trade_Quantity</th>\n",
       "      <th>Trade_Value</th>\n",
       "    </tr>\n",
       "  </thead>\n",
       "  <tbody>\n",
       "    <tr>\n",
       "      <th>0</th>\n",
       "      <td>2015-03-02</td>\n",
       "      <td>NaN</td>\n",
       "      <td>7828.0</td>\n",
       "      <td>NaN</td>\n",
       "      <td>N</td>\n",
       "      <td>NaN</td>\n",
       "      <td>NaN</td>\n",
       "      <td>NaN</td>\n",
       "      <td>NaN</td>\n",
       "      <td>NaN</td>\n",
       "      <td>...</td>\n",
       "      <td>72729552441971</td>\n",
       "      <td>NaN</td>\n",
       "      <td>NaN</td>\n",
       "      <td>NaN</td>\n",
       "      <td>50.0</td>\n",
       "      <td>0.0</td>\n",
       "      <td>190.0</td>\n",
       "      <td>NaN</td>\n",
       "      <td>NaN</td>\n",
       "      <td>NaN</td>\n",
       "    </tr>\n",
       "    <tr>\n",
       "      <th>1</th>\n",
       "      <td>2015-03-02</td>\n",
       "      <td>NaN</td>\n",
       "      <td>35277.0</td>\n",
       "      <td>NaN</td>\n",
       "      <td>N</td>\n",
       "      <td>NaN</td>\n",
       "      <td>NaN</td>\n",
       "      <td>NaN</td>\n",
       "      <td>NaN</td>\n",
       "      <td>NaN</td>\n",
       "      <td>...</td>\n",
       "      <td>72728899213527</td>\n",
       "      <td>NaN</td>\n",
       "      <td>NaN</td>\n",
       "      <td>NaN</td>\n",
       "      <td>25.0</td>\n",
       "      <td>0.0</td>\n",
       "      <td>225.0</td>\n",
       "      <td>NaN</td>\n",
       "      <td>NaN</td>\n",
       "      <td>NaN</td>\n",
       "    </tr>\n",
       "    <tr>\n",
       "      <th>2</th>\n",
       "      <td>2015-03-02</td>\n",
       "      <td>NaN</td>\n",
       "      <td>20229.0</td>\n",
       "      <td>NaN</td>\n",
       "      <td>N</td>\n",
       "      <td>NaN</td>\n",
       "      <td>NaN</td>\n",
       "      <td>NaN</td>\n",
       "      <td>NaN</td>\n",
       "      <td>NaN</td>\n",
       "      <td>...</td>\n",
       "      <td>72730180523712</td>\n",
       "      <td>NaN</td>\n",
       "      <td>NaN</td>\n",
       "      <td>NaN</td>\n",
       "      <td>25.0</td>\n",
       "      <td>0.0</td>\n",
       "      <td>137.8</td>\n",
       "      <td>NaN</td>\n",
       "      <td>NaN</td>\n",
       "      <td>NaN</td>\n",
       "    </tr>\n",
       "    <tr>\n",
       "      <th>3</th>\n",
       "      <td>2015-03-02</td>\n",
       "      <td>NaN</td>\n",
       "      <td>7462.0</td>\n",
       "      <td>NaN</td>\n",
       "      <td>N</td>\n",
       "      <td>NaN</td>\n",
       "      <td>NaN</td>\n",
       "      <td>NaN</td>\n",
       "      <td>NaN</td>\n",
       "      <td>NaN</td>\n",
       "      <td>...</td>\n",
       "      <td>72729391296675</td>\n",
       "      <td>NaN</td>\n",
       "      <td>NaN</td>\n",
       "      <td>NaN</td>\n",
       "      <td>200.0</td>\n",
       "      <td>0.0</td>\n",
       "      <td>20250.0</td>\n",
       "      <td>NaN</td>\n",
       "      <td>NaN</td>\n",
       "      <td>NaN</td>\n",
       "    </tr>\n",
       "    <tr>\n",
       "      <th>4</th>\n",
       "      <td>2015-03-02</td>\n",
       "      <td>NaN</td>\n",
       "      <td>17233.0</td>\n",
       "      <td>NaN</td>\n",
       "      <td>N</td>\n",
       "      <td>NaN</td>\n",
       "      <td>NaN</td>\n",
       "      <td>NaN</td>\n",
       "      <td>NaN</td>\n",
       "      <td>NaN</td>\n",
       "      <td>...</td>\n",
       "      <td>72729610334487</td>\n",
       "      <td>NaN</td>\n",
       "      <td>NaN</td>\n",
       "      <td>NaN</td>\n",
       "      <td>100.0</td>\n",
       "      <td>0.0</td>\n",
       "      <td>116.0</td>\n",
       "      <td>NaN</td>\n",
       "      <td>NaN</td>\n",
       "      <td>NaN</td>\n",
       "    </tr>\n",
       "  </tbody>\n",
       "</table>\n",
       "<p>5 rows × 53 columns</p>\n",
       "</div>"
      ],
      "text/plain": [
       "         date   buy_user_id   sell_user_id  bord_stoploss_ind  \\\n",
       "0  2015-03-02           NaN         7828.0                NaN   \n",
       "1  2015-03-02           NaN        35277.0                NaN   \n",
       "2  2015-03-02           NaN        20229.0                NaN   \n",
       "3  2015-03-02           NaN         7462.0                NaN   \n",
       "4  2015-03-02           NaN        17233.0                NaN   \n",
       "\n",
       "  sell_stoploss_ind buy_instrument buy_symbol buy_option buy_expry_date  \\\n",
       "0                 N            NaN        NaN        NaN            NaN   \n",
       "1                 N            NaN        NaN        NaN            NaN   \n",
       "2                 N            NaN        NaN        NaN            NaN   \n",
       "3                 N            NaN        NaN        NaN            NaN   \n",
       "4                 N            NaN        NaN        NaN            NaN   \n",
       "\n",
       "   buy_strk_price     ...       Trade_Transaction_time Buy_order_Price  \\\n",
       "0             NaN     ...               72729552441971             NaN   \n",
       "1             NaN     ...               72728899213527             NaN   \n",
       "2             NaN     ...               72730180523712             NaN   \n",
       "3             NaN     ...               72729391296675             NaN   \n",
       "4             NaN     ...               72729610334487             NaN   \n",
       "\n",
       "   Buy_order_quantity Buy_trigger_price Sell_order_quantity  \\\n",
       "0                 NaN               NaN                50.0   \n",
       "1                 NaN               NaN                25.0   \n",
       "2                 NaN               NaN                25.0   \n",
       "3                 NaN               NaN               200.0   \n",
       "4                 NaN               NaN               100.0   \n",
       "\n",
       "  Sell_trigger_price  Sell_order_price  Trade_Price Trade_Quantity  \\\n",
       "0                0.0             190.0          NaN            NaN   \n",
       "1                0.0             225.0          NaN            NaN   \n",
       "2                0.0             137.8          NaN            NaN   \n",
       "3                0.0           20250.0          NaN            NaN   \n",
       "4                0.0             116.0          NaN            NaN   \n",
       "\n",
       "   Trade_Value  \n",
       "0          NaN  \n",
       "1          NaN  \n",
       "2          NaN  \n",
       "3          NaN  \n",
       "4          NaN  \n",
       "\n",
       "[5 rows x 53 columns]"
      ]
     },
     "execution_count": 21,
     "metadata": {},
     "output_type": "execute_result"
    }
   ],
   "source": [
    "df.head()"
   ]
  },
  {
   "cell_type": "code",
   "execution_count": 22,
   "metadata": {
    "scrolled": true
   },
   "outputs": [
    {
     "data": {
      "text/plain": [
       "Index(['date', ' buy_user_id', ' sell_user_id', ' bord_stoploss_ind',\n",
       "       'sell_stoploss_ind', 'buy_instrument', 'buy_symbol', 'buy_option',\n",
       "       'buy_expry_date', 'buy_strk_price', 'buy_tm_code', 'buy_client_cd',\n",
       "       'buy_activity_type', 'buy_order_time', 'buy_order_LST_MOD_TIME',\n",
       "       'buy_MKT_IND', 'buy_ORD_NO', 'buy_transaction_time',\n",
       "       'buy_spread_indicator', 'buy_nnf_code', 'buy_book_type',\n",
       "       'buy_colo_flag', 'sell_instrument', 'sell_symbol', 'sell_expry_date',\n",
       "       'sell_option', 'sell_strk_price', 'sell_tm_code', 'sell_client_code',\n",
       "       'sell_activity_type', 'sell_order_time', 'sell_order_LST_MOD_TIME',\n",
       "       'sell_MKT_IND', 'sell_ORD_NO', 'sell_transaction_time',\n",
       "       'sell_spread_indicator', 'sell_nnf_code', 'sell_book_type',\n",
       "       'sell_colo_flag', 'Trade_Activity_Type', 'Buy_Side_Trade_No',\n",
       "       'Sell_Side_Trade_No', 'Trade_Time', 'Trade_Transaction_time',\n",
       "       'Buy_order_Price', 'Buy_order_quantity', 'Buy_trigger_price',\n",
       "       'Sell_order_quantity', 'Sell_trigger_price', 'Sell_order_price',\n",
       "       'Trade_Price', 'Trade_Quantity', 'Trade_Value'],\n",
       "      dtype='object')"
      ]
     },
     "execution_count": 22,
     "metadata": {},
     "output_type": "execute_result"
    }
   ],
   "source": [
    "df.columns"
   ]
  },
  {
   "cell_type": "code",
   "execution_count": 23,
   "metadata": {},
   "outputs": [],
   "source": [
    "df = df[df[' buy_user_id'].notna() & df[' sell_user_id'].notna()]"
   ]
  },
  {
   "cell_type": "code",
   "execution_count": 24,
   "metadata": {},
   "outputs": [],
   "source": [
    "df = pd.DataFrame([df['date'], df[' buy_user_id'], df[' sell_user_id'], df['buy_symbol'], df['Trade_Transaction_time'], df['Trade_Price'], df['Trade_Quantity']]).transpose()"
   ]
  },
  {
   "cell_type": "code",
   "execution_count": 25,
   "metadata": {},
   "outputs": [
    {
     "name": "stdout",
     "output_type": "stream",
     "text": [
      "<class 'pandas.core.frame.DataFrame'>\n",
      "Int64Index: 2099204 entries, 730 to 4141689\n",
      "Data columns (total 7 columns):\n",
      "date                      object\n",
      " buy_user_id              object\n",
      " sell_user_id             object\n",
      "buy_symbol                object\n",
      "Trade_Transaction_time    object\n",
      "Trade_Price               object\n",
      "Trade_Quantity            object\n",
      "dtypes: object(7)\n",
      "memory usage: 208.1+ MB\n"
     ]
    }
   ],
   "source": [
    "df.info()"
   ]
  },
  {
   "cell_type": "code",
   "execution_count": 26,
   "metadata": {},
   "outputs": [],
   "source": [
    "df.columns = ['date', 'buy_id', 'sell_id', 'symbol', 'time', 'price', 'qty']"
   ]
  },
  {
   "cell_type": "code",
   "execution_count": 32,
   "metadata": {},
   "outputs": [],
   "source": [
    "df.to_csv('out2.csv')"
   ]
  }
 ],
 "metadata": {
  "kernelspec": {
   "display_name": "Python 3",
   "language": "python",
   "name": "python3"
  },
  "language_info": {
   "codemirror_mode": {
    "name": "ipython",
    "version": 3
   },
   "file_extension": ".py",
   "mimetype": "text/x-python",
   "name": "python",
   "nbconvert_exporter": "python",
   "pygments_lexer": "ipython3",
   "version": "3.6.3"
  }
 },
 "nbformat": 4,
 "nbformat_minor": 2
}
